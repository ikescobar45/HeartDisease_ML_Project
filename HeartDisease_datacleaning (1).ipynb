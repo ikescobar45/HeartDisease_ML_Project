{
 "cells": [
  {
   "cell_type": "markdown",
   "id": "c1c1ad8e-c9f1-4d5a-bcef-37b06143055f",
   "metadata": {},
   "source": [
    "# Data Cleaning and Preprocessing"
   ]
  },
  {
   "cell_type": "markdown",
   "id": "7c3aeac8-d2a0-4680-bf7f-a97142376e3e",
   "metadata": {},
   "source": [
    "### Import Libraries and Load Dataset"
   ]
  },
  {
   "cell_type": "code",
   "execution_count": 138,
   "id": "a163c203-ea97-454d-9cd9-9cbcf7d927ba",
   "metadata": {},
   "outputs": [
    {
     "name": "stdout",
     "output_type": "stream",
     "text": [
      "First 5 rows of the dataset:\n",
      "   Age Sex ChestPainType  RestingBP  Cholesterol  FastingBS RestingECG  MaxHR  \\\n",
      "0   40   M           ATA        140          289          0     Normal    172   \n",
      "1   49   F           NAP        160          180          0     Normal    156   \n",
      "2   37   M           ATA        130          283          0         ST     98   \n",
      "3   48   F           ASY        138          214          0     Normal    108   \n",
      "4   54   M           NAP        150          195          0     Normal    122   \n",
      "\n",
      "  ExerciseAngina  Oldpeak ST_Slope  HeartDisease  \n",
      "0              N      0.0       Up             0  \n",
      "1              N      1.0     Flat             1  \n",
      "2              N      0.0       Up             0  \n",
      "3              Y      1.5     Flat             1  \n",
      "4              N      0.0       Up             0  \n",
      "\n",
      "Dataset Info:\n",
      "<class 'pandas.core.frame.DataFrame'>\n",
      "RangeIndex: 918 entries, 0 to 917\n",
      "Data columns (total 12 columns):\n",
      " #   Column          Non-Null Count  Dtype  \n",
      "---  ------          --------------  -----  \n",
      " 0   Age             918 non-null    int64  \n",
      " 1   Sex             918 non-null    object \n",
      " 2   ChestPainType   918 non-null    object \n",
      " 3   RestingBP       918 non-null    int64  \n",
      " 4   Cholesterol     918 non-null    int64  \n",
      " 5   FastingBS       918 non-null    int64  \n",
      " 6   RestingECG      918 non-null    object \n",
      " 7   MaxHR           918 non-null    int64  \n",
      " 8   ExerciseAngina  918 non-null    object \n",
      " 9   Oldpeak         918 non-null    float64\n",
      " 10  ST_Slope        918 non-null    object \n",
      " 11  HeartDisease    918 non-null    int64  \n",
      "dtypes: float64(1), int64(6), object(5)\n",
      "memory usage: 86.2+ KB\n",
      "None\n"
     ]
    }
   ],
   "source": [
    "\n",
    "import pandas as pd\n",
    "import numpy as np\n",
    "import seaborn as sns\n",
    "import matplotlib.pyplot as plt\n",
    "from sklearn.preprocessing import LabelEncoder\n",
    "from sklearn.preprocessing import OneHotEncoder\n",
    "from sklearn.compose import ColumnTransformer\n",
    "from sklearn.linear_model import LogisticRegression\n",
    "\n",
    "\n",
    "file_path = \"heart.csv\"  \n",
    "data = pd.read_csv(file_path)\n",
    "\n",
    "\n",
    "print(\"First 5 rows of the dataset:\")\n",
    "print(data.head())\n",
    "\n",
    "print(\"\\nDataset Info:\")\n",
    "print(data.info())\n",
    "\n"
   ]
  },
  {
   "cell_type": "code",
   "execution_count": 142,
   "id": "2750f1cc-ff1d-40c5-8eeb-26632c1d1a77",
   "metadata": {},
   "outputs": [
    {
     "name": "stdout",
     "output_type": "stream",
     "text": [
      "\n",
      "Summary Statistics:\n",
      "              Age   RestingBP  Cholesterol   FastingBS       MaxHR  \\\n",
      "count  918.000000  918.000000   918.000000  918.000000  918.000000   \n",
      "mean    53.510893  132.396514   198.799564    0.233115  136.809368   \n",
      "std      9.432617   18.514154   109.384145    0.423046   25.460334   \n",
      "min     28.000000    0.000000     0.000000    0.000000   60.000000   \n",
      "25%     47.000000  120.000000   173.250000    0.000000  120.000000   \n",
      "50%     54.000000  130.000000   223.000000    0.000000  138.000000   \n",
      "75%     60.000000  140.000000   267.000000    0.000000  156.000000   \n",
      "max     77.000000  200.000000   603.000000    1.000000  202.000000   \n",
      "\n",
      "          Oldpeak  HeartDisease  \n",
      "count  918.000000    918.000000  \n",
      "mean     0.887364      0.553377  \n",
      "std      1.066570      0.497414  \n",
      "min     -2.600000      0.000000  \n",
      "25%      0.000000      0.000000  \n",
      "50%      0.600000      1.000000  \n",
      "75%      1.500000      1.000000  \n",
      "max      6.200000      1.000000  \n",
      "\n",
      "Missing Values:\n",
      "Age               0\n",
      "Sex               0\n",
      "ChestPainType     0\n",
      "RestingBP         0\n",
      "Cholesterol       0\n",
      "FastingBS         0\n",
      "RestingECG        0\n",
      "MaxHR             0\n",
      "ExerciseAngina    0\n",
      "Oldpeak           0\n",
      "ST_Slope          0\n",
      "HeartDisease      0\n",
      "dtype: int64\n",
      "\n",
      "Number of Duplicate Rows: 0\n"
     ]
    }
   ],
   "source": [
    "print(\"\\nSummary Statistics:\")\n",
    "print(data.describe())\n",
    "\n",
    "\n",
    "print(\"\\nMissing Values:\")\n",
    "print(data.isnull().sum())\n",
    "\n",
    "\n",
    "duplicates = data.duplicated().sum()\n",
    "print(f\"\\nNumber of Duplicate Rows: {duplicates}\")"
   ]
  },
  {
   "cell_type": "markdown",
   "id": "245384c2-6640-40f6-ba48-8d59157458b3",
   "metadata": {},
   "source": [
    "### Handling Missing Values and Encoding Categorical Variables"
   ]
  },
  {
   "cell_type": "code",
   "execution_count": 146,
   "id": "a0709ba2-98b0-4f2e-911c-40192ae47cc3",
   "metadata": {},
   "outputs": [],
   "source": [
    "\n",
    "numerical_cols = ['Age', 'RestingBP', 'Cholesterol', 'FastingBS', 'MaxHR', 'Oldpeak']\n",
    "categorical_cols = ['Sex', 'ChestPainType', 'RestingECG', 'ExerciseAngina', 'ST_Slope']\n",
    "\n",
    "\n",
    "data[numerical_cols] = data[numerical_cols].replace(0, np.nan)  # \n",
    "data[numerical_cols] = data[numerical_cols].fillna(data[numerical_cols].mean())  \n",
    "\n",
    "\n",
    "data[categorical_cols] = data[categorical_cols].fillna(data[categorical_cols].mode().iloc[0])\n",
    "\n",
    "\n",
    "label_encoders = {}\n",
    "for col in categorical_cols:\n",
    "    le = LabelEncoder()\n",
    "    data[col] = le.fit_transform(data[col])\n",
    "    label_encoders[col] = le  \n",
    "\n",
    "\n",
    "categorical_columns = ['ChestPainType', 'Sex', 'RestingECG', 'ExerciseAngina', 'ST_Slope']\n",
    "data_encoded = pd.get_dummies(data, columns=categorical_columns, drop_first=True)"
   ]
  },
  {
   "cell_type": "code",
   "execution_count": 148,
   "id": "fc7ab50a-a848-4cf6-92c6-f214af53eae2",
   "metadata": {},
   "outputs": [
    {
     "name": "stdout",
     "output_type": "stream",
     "text": [
      "\n",
      "Updated Dataset Head:\n",
      "   Age  Sex  ChestPainType  RestingBP  Cholesterol  FastingBS  RestingECG  \\\n",
      "0   40    1              1      140.0        289.0        1.0           1   \n",
      "1   49    0              2      160.0        180.0        1.0           1   \n",
      "2   37    1              1      130.0        283.0        1.0           2   \n",
      "3   48    0              0      138.0        214.0        1.0           1   \n",
      "4   54    1              2      150.0        195.0        1.0           1   \n",
      "\n",
      "   MaxHR  ExerciseAngina   Oldpeak  ST_Slope  HeartDisease  \n",
      "0    172               0  1.481091         2             0  \n",
      "1    156               0  1.000000         1             1  \n",
      "2     98               0  1.481091         2             0  \n",
      "3    108               1  1.500000         1             1  \n",
      "4    122               0  1.481091         2             0  \n",
      "\n",
      "Remaining Missing Values:\n",
      "Age               0\n",
      "Sex               0\n",
      "ChestPainType     0\n",
      "RestingBP         0\n",
      "Cholesterol       0\n",
      "FastingBS         0\n",
      "RestingECG        0\n",
      "MaxHR             0\n",
      "ExerciseAngina    0\n",
      "Oldpeak           0\n",
      "ST_Slope          0\n",
      "HeartDisease      0\n",
      "dtype: int64\n"
     ]
    }
   ],
   "source": [
    "\n",
    "print(\"\\nUpdated Dataset Head:\")\n",
    "print(data.head())\n",
    "\n",
    "print(\"\\nRemaining Missing Values:\")\n",
    "print(data.isnull().sum())\n"
   ]
  },
  {
   "cell_type": "code",
   "execution_count": null,
   "id": "e7c0b508-3fcc-4f83-8aa6-d9dd93d90561",
   "metadata": {},
   "outputs": [],
   "source": []
  },
  {
   "cell_type": "markdown",
   "id": "b24c725c-21e2-4a86-af7b-9067c7c141b5",
   "metadata": {},
   "source": [
    "### Validation for Numerical Columns to Determine Outliers"
   ]
  },
  {
   "cell_type": "code",
   "execution_count": 150,
   "id": "83656ab7-62de-458a-a1e9-4fb23bad1a7c",
   "metadata": {},
   "outputs": [
    {
     "name": "stdout",
     "output_type": "stream",
     "text": [
      "Unique values in Age:\n",
      "[40 49 37 48 54 39 45 58 42 38 43 60 36 44 53 52 51 56 41 32 65 35 59 50\n",
      " 47 31 46 57 55 63 66 34 33 61 29 62 28 30 74 68 72 64 69 67 73 70 77 75\n",
      " 76 71]\n",
      "Unique values in RestingBP:\n",
      "[140.         160.         130.         138.         150.\n",
      " 120.         110.         136.         115.         100.\n",
      " 124.         113.         125.         145.         112.\n",
      " 132.         118.         170.         142.         190.\n",
      " 135.         180.         108.         155.         128.\n",
      " 106.          92.         200.         122.          98.\n",
      " 105.         133.          95.          80.         137.\n",
      " 185.         165.         126.         152.         116.\n",
      " 132.54089422 144.         154.         134.         104.\n",
      " 139.         131.         141.         178.         146.\n",
      " 158.         123.         102.          96.         143.\n",
      " 172.         156.         114.         127.         101.\n",
      " 174.          94.         148.         117.         192.\n",
      " 129.         164.        ]\n",
      "Unique values in Cholesterol:\n",
      "[289.         180.         283.         214.         195.\n",
      " 339.         237.         208.         207.         284.\n",
      " 211.         164.         204.         234.         273.\n",
      " 196.         201.         248.         267.         223.\n",
      " 184.         288.         215.         209.         260.\n",
      " 468.         188.         518.         167.         224.\n",
      " 172.         186.         254.         306.         250.\n",
      " 177.         227.         230.         294.         264.\n",
      " 259.         175.         318.         216.         340.\n",
      " 233.         205.         245.         194.         270.\n",
      " 213.         365.         342.         253.         277.\n",
      " 202.         297.         225.         246.         412.\n",
      " 265.         182.         218.         268.         163.\n",
      " 529.         100.         206.         238.         139.\n",
      " 263.         291.         229.         307.         210.\n",
      " 329.         147.          85.         269.         275.\n",
      " 179.         392.         466.         129.         241.\n",
      " 255.         276.         282.         338.         160.\n",
      " 156.         272.         240.         393.         161.\n",
      " 228.         292.         388.         166.         247.\n",
      " 331.         341.         243.         279.         198.\n",
      " 249.         168.         603.         159.         190.\n",
      " 185.         290.         212.         231.         222.\n",
      " 235.         320.         187.         266.         287.\n",
      " 404.         312.         251.         328.         285.\n",
      " 280.         192.         193.         308.         219.\n",
      " 257.         132.         226.         217.         303.\n",
      " 298.         256.         117.         295.         173.\n",
      " 315.         281.         309.         200.         336.\n",
      " 355.         326.         171.         491.         271.\n",
      " 274.         394.         221.         126.         305.\n",
      " 220.         242.         347.         344.         358.\n",
      " 169.         181.         244.63538874 236.         203.\n",
      " 153.         316.         311.         252.         458.\n",
      " 384.         258.         349.         142.         197.\n",
      " 113.         261.         310.         232.         110.\n",
      " 123.         170.         369.         152.         244.\n",
      " 165.         337.         300.         333.         385.\n",
      " 322.         564.         239.         293.         407.\n",
      " 149.         199.         417.         178.         319.\n",
      " 354.         330.         302.         313.         141.\n",
      " 327.         304.         286.         360.         262.\n",
      " 325.         299.         409.         174.         183.\n",
      " 321.         353.         335.         278.         157.\n",
      " 176.         131.        ]\n",
      "Unique values in FastingBS:\n",
      "[1.]\n",
      "Unique values in MaxHR:\n",
      "[172 156  98 108 122 170 142 130 120  99 145 140 137 150 166 165 125 160\n",
      " 164 138 178 112 118 127 114 154 155  87 148 100 168 184 121 153 134  96\n",
      " 174 175 144  82 135 115 128 116  94 110  92 180 152 124 106 185 139 190\n",
      " 146 158 132 176 119 188 162 105  90 136 167 129 102 143 103  91 126  93\n",
      " 131 149 123 182 141  77 109 133 179 113 104  95  72  97 117  86  63 157\n",
      "  83  60  70 163  67  78  84 111  80 107 161  69  88  73 159 151 181 186\n",
      " 177 173 169 171 147  71 192 195 194 187 202]\n",
      "Unique values in Oldpeak:\n",
      "[ 1.48109091  1.          1.5         2.          3.          4.\n",
      "  0.5         2.5         5.          0.8         0.7         1.4\n",
      "  2.1         0.4         0.2         1.7         2.2         0.1\n",
      "  1.6         1.3         0.3         1.8         2.6        -0.9\n",
      "  2.8        -2.6        -1.5        -0.1         0.9         1.1\n",
      "  2.4        -1.         -1.1        -0.7        -0.8         3.7\n",
      "  1.2        -0.5        -2.          1.9         3.5         0.6\n",
      "  3.1         2.3         3.4         3.6         4.2         3.2\n",
      "  5.6         3.8         2.9         6.2         4.4       ]\n"
     ]
    }
   ],
   "source": [
    "\n",
    "for col in numerical_cols:\n",
    "    print(f\"Unique values in {col}:\")\n",
    "    print(data[col].unique())\n"
   ]
  },
  {
   "cell_type": "markdown",
   "id": "76fa1505-8fa0-4e0d-b9a2-95df8b060618",
   "metadata": {},
   "source": [
    "### Observations from the Results\n",
    "RestingBP and Cholesterol:\n",
    "\n",
    "Some values are highly unusual or unrealistic, such as:\n",
    "RestingBP values like 0.\n",
    "Cholesterol values as high as 603 or as low as 100.\n",
    "These need domain-specific thresholds (e.g., minimum/maximum values) to identify outliers and potentially remove them.\n",
    "\n",
    "FastingBS:\n",
    "\n",
    "Only one unique value (1.0). This feature might not be informative as it doesn't vary. It may need further investigation or exclusion during feature selection.\n",
    "Oldpeak:\n",
    "\n",
    "Contains negative values (e.g., -2.6, -1.5), which are invalid for this feature (it represents depression in ST-segment, and negatives don’t make sense). These values should be removed or corrected."
   ]
  },
  {
   "cell_type": "markdown",
   "id": "9bb22aab-fd4a-4364-8f39-2452be7d40db",
   "metadata": {},
   "source": [
    "### Handle Outliers"
   ]
  },
  {
   "cell_type": "markdown",
   "id": "0b4f4d80-b031-4453-ab38-1a73e17b67c2",
   "metadata": {},
   "source": [
    "Outliers were removed based on domain-specific thresholds: RestingBP: Values between 50 and 200 were kept. Cholesterol: Values between 100 and 500 were retained. Oldpeak: Negative values were removed."
   ]
  },
  {
   "cell_type": "code",
   "execution_count": 152,
   "id": "059266dc-9222-4122-8f1b-93717ef91ac6",
   "metadata": {},
   "outputs": [],
   "source": [
    "\n",
    "data = data[(data['RestingBP'] > 50) & (data['RestingBP'] <= 200)]  \n",
    "data = data[(data['Cholesterol'] >= 100) & (data['Cholesterol'] <= 500)]  \n",
    "data = data[data['Oldpeak'] >= 0]  "
   ]
  },
  {
   "cell_type": "code",
   "execution_count": 160,
   "id": "771272e1-3668-4c49-8c76-a8072f3ffde9",
   "metadata": {},
   "outputs": [
    {
     "name": "stdout",
     "output_type": "stream",
     "text": [
      "\n",
      "Updated Unique Values for Numerical Features After Outlier Removal:\n",
      "RestingBP: [140.         160.         130.         138.         150.\n",
      " 120.         110.         136.         115.         100.\n",
      " 124.         113.         125.         112.         132.\n",
      " 170.         142.         118.         190.         135.\n",
      " 180.         108.         145.         155.         128.\n",
      " 106.          92.         200.         122.          98.\n",
      " 105.         133.          95.          80.         137.\n",
      " 185.         165.         126.         152.         116.\n",
      " 132.54089422 144.         154.         134.         104.\n",
      " 139.         131.         141.         178.         146.\n",
      " 158.         102.          96.         143.         172.\n",
      " 156.         114.         127.         101.         174.\n",
      "  94.         148.         117.         192.         123.\n",
      " 129.         164.        ]\n",
      "Cholesterol: [289.         180.         283.         214.         195.\n",
      " 339.         237.         208.         207.         284.\n",
      " 211.         164.         204.         234.         273.\n",
      " 196.         201.         248.         267.         223.\n",
      " 184.         288.         215.         209.         260.\n",
      " 468.         188.         167.         224.         172.\n",
      " 186.         254.         306.         250.         177.\n",
      " 227.         230.         294.         264.         259.\n",
      " 175.         318.         216.         340.         233.\n",
      " 205.         245.         194.         270.         213.\n",
      " 365.         342.         253.         277.         202.\n",
      " 297.         225.         246.         412.         265.\n",
      " 182.         218.         268.         163.         100.\n",
      " 206.         238.         139.         263.         291.\n",
      " 229.         307.         210.         329.         147.\n",
      " 269.         275.         179.         392.         466.\n",
      " 129.         241.         255.         276.         282.\n",
      " 338.         160.         156.         272.         240.\n",
      " 393.         161.         228.         292.         388.\n",
      " 166.         247.         331.         341.         243.\n",
      " 279.         198.         249.         168.         159.\n",
      " 190.         185.         290.         212.         231.\n",
      " 222.         235.         320.         187.         266.\n",
      " 287.         404.         312.         251.         328.\n",
      " 285.         280.         192.         193.         308.\n",
      " 219.         257.         132.         226.         217.\n",
      " 303.         298.         256.         117.         295.\n",
      " 173.         315.         281.         309.         200.\n",
      " 336.         355.         326.         171.         491.\n",
      " 271.         274.         394.         221.         126.\n",
      " 305.         220.         242.         347.         344.\n",
      " 358.         169.         181.         244.63538874 236.\n",
      " 203.         153.         316.         311.         252.\n",
      " 458.         384.         258.         349.         142.\n",
      " 197.         113.         261.         310.         232.\n",
      " 110.         123.         170.         369.         152.\n",
      " 244.         165.         337.         300.         333.\n",
      " 385.         322.         239.         293.         407.\n",
      " 149.         199.         417.         178.         319.\n",
      " 354.         330.         302.         313.         141.\n",
      " 327.         304.         286.         360.         262.\n",
      " 325.         299.         409.         174.         183.\n",
      " 321.         353.         335.         278.         157.\n",
      " 176.         131.        ]\n",
      "Oldpeak: [1.48109091 1.         1.5        2.         3.         4.\n",
      " 0.5        2.5        5.         0.8        0.7        1.4\n",
      " 2.1        0.4        0.2        1.7        2.2        0.1\n",
      " 1.6        1.3        0.3        1.8        2.6        2.8\n",
      " 0.9        1.1        2.4        3.7        1.2        1.9\n",
      " 3.5        0.6        3.1        2.3        3.4        3.6\n",
      " 4.2        3.2        5.6        3.8        2.9        6.2\n",
      " 4.4       ]\n"
     ]
    }
   ],
   "source": [
    "\n",
    "print(\"\\nUpdated Unique Values for Numerical Features After Outlier Removal:\")\n",
    "for col in ['RestingBP', 'Cholesterol', 'Oldpeak']:\n",
    "    print(f\"{col}: {data[col].unique()}\")"
   ]
  },
  {
   "cell_type": "markdown",
   "id": "894d9aa0-0c35-4655-ab78-528f6fba6eac",
   "metadata": {},
   "source": [
    "### Drop Uninformative Columns\n",
    "I will drop FastingBs because it has no variance and all the values are 1.\n",
    "I dropped the columns of ST_Slope_str and ChestPaintType because they are irrelevant. These features were already label encoded so this feature adds no information."
   ]
  },
  {
   "cell_type": "code",
   "execution_count": 156,
   "id": "896751cc-506e-4d14-960d-2cd2a966b79b",
   "metadata": {},
   "outputs": [
    {
     "name": "stdout",
     "output_type": "stream",
     "text": [
      "'FastingBS' column is not in the DataFrame.\n",
      "No redundant columns to drop: ['ST_Slope_str', 'ChestPainType_str']\n"
     ]
    }
   ],
   "source": [
    "\n",
    "if 'FastingBS' in data.columns:\n",
    "    print(\"\\nUnique values and their counts in FastingBS:\")\n",
    "    print(data['FastingBS'].value_counts())\n",
    "\n",
    " \n",
    "    if data['FastingBS'].nunique() == 1:\n",
    "        data.drop(columns=['FastingBS'], inplace=True)\n",
    "        print(\"\\nDropped 'FastingBS' as it has no variance.\")\n",
    "else:\n",
    "    print(\"'FastingBS' column is not in the DataFrame.\")\n",
    "\n",
    "\n",
    "redundant_columns = ['ST_Slope_str', 'ChestPainType_str']\n",
    "columns_to_drop = [col for col in redundant_columns if col in data.columns]\n",
    "\n",
    "if columns_to_drop:\n",
    "    data.drop(columns=columns_to_drop, inplace=True)\n",
    "    print(f\"Dropped columns: {columns_to_drop}\")\n",
    "else:\n",
    "    print(f\"No redundant columns to drop: {redundant_columns}\")\n",
    "\n",
    "\n",
    "\n",
    "\n"
   ]
  },
  {
   "cell_type": "markdown",
   "id": "43828d98-484c-4bdb-9621-fd315fc9db5c",
   "metadata": {},
   "source": [
    " ### Feature Encoding and Transformation"
   ]
  },
  {
   "cell_type": "code",
   "execution_count": 165,
   "id": "6f4bad0d-0a7b-47a6-814d-394311184256",
   "metadata": {},
   "outputs": [],
   "source": [
    "\n",
    "categorical_columns = ['ChestPainType', 'RestingECG', 'ExerciseAngina', 'ST_Slope']\n",
    "numerical_columns = ['Age', 'RestingBP', 'Cholesterol', 'MaxHR', 'Oldpeak']\n",
    "\n",
    "\n",
    "preprocessor = ColumnTransformer(\n",
    "    transformers=[\n",
    "        ('num', 'passthrough', numerical_columns), \n",
    "        ('cat', OneHotEncoder(), categorical_columns) \n",
    "    ])"
   ]
  },
  {
   "cell_type": "code",
   "execution_count": null,
   "id": "a72e96a6-c50a-4dfd-8df5-75dfe4ecb34e",
   "metadata": {},
   "outputs": [],
   "source": []
  },
  {
   "cell_type": "code",
   "execution_count": 158,
   "id": "d7890b5c-9715-45ba-b331-0a6b3c387872",
   "metadata": {},
   "outputs": [],
   "source": [
    "\n",
    "data.to_csv(\"cleaned_heart_disease_dataset.csv\", index=False)"
   ]
  },
  {
   "cell_type": "code",
   "execution_count": null,
   "id": "1ef8cc51-7a54-47d2-a199-c24e4a6d5d4c",
   "metadata": {},
   "outputs": [],
   "source": [
    "\n"
   ]
  },
  {
   "cell_type": "code",
   "execution_count": null,
   "id": "fc264bac-5e13-4ce0-ac59-cdec6dce0674",
   "metadata": {},
   "outputs": [],
   "source": []
  }
 ],
 "metadata": {
  "kernelspec": {
   "display_name": "Python 3 (ipykernel)",
   "language": "python",
   "name": "python3"
  },
  "language_info": {
   "codemirror_mode": {
    "name": "ipython",
    "version": 3
   },
   "file_extension": ".py",
   "mimetype": "text/x-python",
   "name": "python",
   "nbconvert_exporter": "python",
   "pygments_lexer": "ipython3",
   "version": "3.11.7"
  }
 },
 "nbformat": 4,
 "nbformat_minor": 5
}
